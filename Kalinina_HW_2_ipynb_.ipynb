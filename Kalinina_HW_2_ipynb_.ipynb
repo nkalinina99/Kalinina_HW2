{
  "nbformat": 4,
  "nbformat_minor": 0,
  "metadata": {
    "kernelspec": {
      "display_name": "Python 3 (ipykernel)",
      "language": "python",
      "name": "python3"
    },
    "language_info": {
      "codemirror_mode": {
        "name": "ipython",
        "version": 3
      },
      "file_extension": ".py",
      "mimetype": "text/x-python",
      "name": "python",
      "nbconvert_exporter": "python",
      "pygments_lexer": "ipython3",
      "version": "3.8.6"
    },
    "colab": {
      "name": "Kalinina_HW-2.ipynb\"",
      "provenance": [],
      "collapsed_sections": []
    }
  },
  "cells": [
    {
      "cell_type": "markdown",
      "metadata": {
        "id": "A3posBit_v77"
      },
      "source": [
        "# Домашнее задание №2 ( балла)\n",
        "\n",
        "## дедлайн 7 октября 18:10\n",
        "### 10 или 9 можно получить, если сдать домашнее задание полностью до 3 октября 23:59, а также верно выполнить задания со звездочками\n",
        "\n",
        "\n",
        "Цель:\n",
        "\n",
        "Отработать навыки работы с основными типами данных в Python.\n",
        "Отработать навыки работы с основными структурами данных в Python."
      ]
    },
    {
      "cell_type": "markdown",
      "metadata": {
        "id": "V3_p-c6m_v78"
      },
      "source": [
        "**NB!** Задания необходимо выполнять таким образом, что переменную/-ые можно было заменить на схожее слово/число/текст/список/и т.д., при этом задание все равно выполнялось бы верно."
      ]
    },
    {
      "cell_type": "markdown",
      "metadata": {
        "id": "5IHy3DUz_v8G"
      },
      "source": [
        "### Часть 1. Списки (16 баллов)"
      ]
    },
    {
      "cell_type": "markdown",
      "metadata": {
        "id": "LF37caBG_v8G"
      },
      "source": [
        "1. (2 балла) Пользователь вводит несколько чисел через запятую. Сделайте из этих чисел список, подсчитайте сумму элементов, среднее, максимальное и минимальное значение. Все результаты подсчетов выведите на экран"
      ]
    },
    {
      "cell_type": "code",
      "metadata": {
        "id": "ijcSo38Io-6k",
        "colab": {
          "base_uri": "https://localhost:8080/"
        },
        "outputId": "905adbe2-c8da-47e0-b3fa-89b6cb239afd"
      },
      "source": [
        "numbers = input('введите числа ')\n",
        "numbers = [float(i) for i in numbers.split(\", \")]\n",
        "print(numbers)\n",
        "a = max(numbers)\n",
        "print(\"максимальное значение \", a)\n",
        "b = min(numbers)\n",
        "print(\"минимальное значение \", b)\n",
        "c = sum(numbers)\n",
        "print(\"сумма \", c)\n",
        "l=len(numbers)\n",
        "d = c//l\n",
        "print(\"среднее значение \", d)"
      ],
      "execution_count": 1,
      "outputs": [
        {
          "output_type": "stream",
          "name": "stdout",
          "text": [
            "введите числа 6, 7\n",
            "[6.0, 7.0]\n",
            "максимальное значение  7.0\n",
            "минимальное значение  6.0\n",
            "сумма  13.0\n",
            "среднее значение  6.0\n"
          ]
        }
      ]
    },
    {
      "cell_type": "markdown",
      "metadata": {
        "id": "KLUTNmQk_v8G"
      },
      "source": [
        "2. (2 балла) Даны два списка. \"Слить\" их через один (чередуя элементы то одного, то другого списка).\n",
        "\n",
        "`f = [1,2,3]`\n",
        "\n",
        "`s = ['1','2','3']`\n",
        "\n",
        "Ожидаемый результат:\n",
        "\n",
        "`[1, '1', 2, '2', 3, '3']`\n"
      ]
    },
    {
      "cell_type": "markdown",
      "metadata": {
        "id": "1be1P1k5_v8H"
      },
      "source": [
        "* _Список может быть любого размера (но они могут быть одинаковые), а ваш код все равно должен работать._\n",
        "* _можно заработать + 2 балла к заданию, если сделать его в одну строку_"
      ]
    },
    {
      "cell_type": "code",
      "metadata": {
        "id": "y1VqZ_7P_v8H",
        "colab": {
          "base_uri": "https://localhost:8080/"
        },
        "outputId": "6f96ee97-8f5b-4a03-921a-26d450d8981a"
      },
      "source": [
        "f = [1,2,3,4]\n",
        "s = ['1','2','3','4']\n",
        "\n",
        "f.extend(s)\n",
        "print(f)"
      ],
      "execution_count": null,
      "outputs": [
        {
          "output_type": "stream",
          "name": "stdout",
          "text": [
            "[1, 2, 3, 4, '1', '2', '3', '4']\n"
          ]
        }
      ]
    },
    {
      "cell_type": "markdown",
      "metadata": {
        "id": "wAsDtE_0_v8H"
      },
      "source": [
        "3. (4 балла) Создайте следующий лист: \n",
        "\n",
        "`months = [\n",
        "'Декабрь', 'Январь', 'Февраль',\n",
        "'Март', 'Апрель', 'Май',\n",
        "'Июнь', 'Июль', 'Август',\n",
        "'Сентябрь', 'Октябрь', 'Ноябрь'\n",
        "]`. \n",
        "\n",
        "Ваша задача получить из него:\n",
        "    - все зимние месяцы\n",
        "    - все летние месяцы\n",
        "    - каждый второй месяц года начиная с Января\n",
        "    - первые месяцы каждого сезона (4),\n",
        "\n",
        "используя `slice`."
      ]
    },
    {
      "cell_type": "code",
      "metadata": {
        "id": "ol-aAzBb_v8H",
        "colab": {
          "base_uri": "https://localhost:8080/"
        },
        "outputId": "2b555b78-640e-454f-eebd-588792835660"
      },
      "source": [
        "# your code here\n",
        "months = ['Декабрь', 'Январь', 'Февраль', 'Март', 'Апрель', 'Май', 'Июнь', 'Июль', 'Август', 'Сентябрь', 'Октябрь', 'Ноябрь' ]\n",
        "\n",
        "print(months[:3])\n",
        "print(months[6:9])\n",
        "for i in range(1, len(months)):\n",
        "  if (i%2==0):\n",
        "    print(months[i])\n",
        "print(months[::3])"
      ],
      "execution_count": null,
      "outputs": [
        {
          "output_type": "stream",
          "name": "stdout",
          "text": [
            "['Декабрь', 'Январь', 'Февраль']\n",
            "['Июнь', 'Июль', 'Август']\n",
            "Февраль\n",
            "Апрель\n",
            "Июнь\n",
            "Август\n",
            "Октябрь\n",
            "['Декабрь', 'Март', 'Июнь', 'Сентябрь']\n"
          ]
        }
      ]
    },
    {
      "cell_type": "markdown",
      "metadata": {
        "id": "dyFDN1th_v8H"
      },
      "source": [
        "4. (3 балла) Создайте list \n",
        "\n",
        "`weekdays = ['Понедельник', 2, 'Cреда', 'Четверг', 5]`\n",
        "\n",
        "- Исправьте числа 2 и 5 на Вторник и Пятницу соответственно\n",
        "- Добавьте недостающие дни в конец списка\n",
        "- Посчитайте длину итогового листа"
      ]
    },
    {
      "cell_type": "code",
      "metadata": {
        "id": "mpUCmwn4_v8H",
        "colab": {
          "base_uri": "https://localhost:8080/"
        },
        "outputId": "c8d5dd09-7a61-4e58-c9dd-8f431370d1b3"
      },
      "source": [
        "weekdays = ['Понедельник', 2, 'Cреда', 'Четверг', 5]\n",
        "weekdays[1]='Вторник'\n",
        "weekdays[4]='Пятница'\n",
        "weekdays.append('Суббота')\n",
        "weekdays.append('Воскресенье')\n",
        "print(weekdays)\n",
        "print(len(weekdays))"
      ],
      "execution_count": null,
      "outputs": [
        {
          "output_type": "stream",
          "name": "stdout",
          "text": [
            "['Понедельник', 'Вторник', 'Cреда', 'Четверг', 'Пятница', 'Суббота', 'Воскресенье']\n",
            "7\n"
          ]
        }
      ]
    },
    {
      "cell_type": "markdown",
      "metadata": {
        "id": "sX7Pyq8d_v8H"
      },
      "source": [
        "5. (3 балла) Создайте строку (str) `'йтцыу фочтмлзирчйнбою асапырйафвялгяшещшоьрскяу!й'`\n",
        "\n",
        "    - Превратите ее в лист символов\n",
        "    - Расшифруйте закодированное в ней сообщение, выбрав из всех символов только символы с **нечетным** индексом\n",
        "    - Превратите полученный лист обратно в строку и напечатайте результат\n",
        "\n",
        "**Hint** вам понадобится функция `.join()`"
      ]
    },
    {
      "cell_type": "code",
      "metadata": {
        "id": "fJozshnzC69S",
        "colab": {
          "base_uri": "https://localhost:8080/"
        },
        "outputId": "f5744174-9c91-40c7-a459-17ed798b6a22"
      },
      "source": [
        "a=str('йтцыу фочтмлзирчйнбою асапырйафвялгяшещшоьрскяу!й')\n",
        "list(a)\n",
        "b=[]\n",
        "for i in range(len(a)):\n",
        "    if i % 2 != 0:\n",
        "        b.append(a[i])\n",
        "c=''.join(b)\n",
        "print(c)"
      ],
      "execution_count": null,
      "outputs": [
        {
          "output_type": "stream",
          "name": "stdout",
          "text": [
            "ты отлично справляешься!\n"
          ]
        }
      ]
    },
    {
      "cell_type": "markdown",
      "metadata": {
        "id": "hI1vaX97DLgo"
      },
      "source": [
        "6. (2 балла) Дан список (придумайте любой и положите в переменную `my_list`, `input()` использовать не нужно). Проверить, содержит ли данный список повторяющиеся элементы, удалить повторяющиеся элементы (без использования `dict` и `set`)"
      ]
    },
    {
      "cell_type": "code",
      "metadata": {
        "id": "c4_1mkhp_v8H",
        "colab": {
          "base_uri": "https://localhost:8080/"
        },
        "outputId": "1e8fd0c9-756f-41ae-b9d4-acc32cb97059"
      },
      "source": [
        "my_list=[1,5,17,42,1,7]\n",
        "new_list=[]\n",
        "for i in range(len(my_list)):\n",
        "  if my_list[i] not in new_list:\n",
        "    new_list.append(my_list[i])\n",
        "print(new_list)"
      ],
      "execution_count": null,
      "outputs": [
        {
          "output_type": "stream",
          "name": "stdout",
          "text": [
            "[1, 5, 17, 42, 7]\n"
          ]
        }
      ]
    },
    {
      "cell_type": "markdown",
      "metadata": {
        "id": "nSJWKkvq_v8I"
      },
      "source": [
        "### Часть 2. Кортежи (3 балла)"
      ]
    },
    {
      "cell_type": "markdown",
      "metadata": {
        "id": "hFX4GTq1_v8I"
      },
      "source": [
        "29. (1 балл) Создать кортеж из одного элемента."
      ]
    },
    {
      "cell_type": "code",
      "metadata": {
        "id": "_qcdWtzz_v8I",
        "colab": {
          "base_uri": "https://localhost:8080/"
        },
        "outputId": "62ade810-9464-4af9-f119-7351a6a57b40"
      },
      "source": [
        "t=tuple('1')\n",
        "print(t)"
      ],
      "execution_count": null,
      "outputs": [
        {
          "output_type": "stream",
          "name": "stdout",
          "text": [
            "('1',)\n"
          ]
        }
      ]
    },
    {
      "cell_type": "markdown",
      "metadata": {
        "id": "WFrsJtZr_v8I"
      },
      "source": [
        "30. (1 балл) Создайте кортеж из списка, напечатайте его.\n",
        "\n",
        "`months = [\n",
        "'Январь', 'Февраль',\n",
        "'Март', 'Апрель', 'Май',\n",
        "'Июнь', 'Июль', 'Август',\n",
        "'Сентябрь', 'Октябрь', 'Ноябрь'\n",
        "]`"
      ]
    },
    {
      "cell_type": "code",
      "metadata": {
        "id": "1zL4nMN4_v8I",
        "colab": {
          "base_uri": "https://localhost:8080/"
        },
        "outputId": "80b2499d-c80f-4807-e772-70246820a5b2"
      },
      "source": [
        "months = [ 'Январь', 'Февраль', 'Март', 'Апрель', 'Май', 'Июнь', 'Июль', 'Август', 'Сентябрь', 'Октябрь', 'Ноябрь' ]\n",
        "month=tuple(months)\n",
        "print(month)"
      ],
      "execution_count": null,
      "outputs": [
        {
          "output_type": "stream",
          "name": "stdout",
          "text": [
            "('Январь', 'Февраль', 'Март', 'Апрель', 'Май', 'Июнь', 'Июль', 'Август', 'Сентябрь', 'Октябрь', 'Ноябрь')\n"
          ]
        }
      ]
    },
    {
      "cell_type": "markdown",
      "metadata": {
        "id": "iGn7e0Ow_v8I"
      },
      "source": [
        "31. (1 балл) Добавьте недостающий месяц (на выходе ожидается кортеж)"
      ]
    },
    {
      "cell_type": "code",
      "metadata": {
        "id": "ZdD0BuYU_v8I",
        "colab": {
          "base_uri": "https://localhost:8080/"
        },
        "outputId": "c536eb67-74ec-4605-a43e-0603062eec9c"
      },
      "source": [
        "months.append('Декабрь')\n",
        "m=tuple(months)\n",
        "print(m)"
      ],
      "execution_count": null,
      "outputs": [
        {
          "output_type": "stream",
          "name": "stdout",
          "text": [
            "('Январь', 'Февраль', 'Март', 'Апрель', 'Май', 'Июнь', 'Июль', 'Август', 'Сентябрь', 'Октябрь', 'Ноябрь', 'Декабрь')\n"
          ]
        }
      ]
    },
    {
      "cell_type": "markdown",
      "metadata": {
        "id": "netCKvWK_v8I"
      },
      "source": [
        "### Часть 3. Сеты (4 балла)"
      ]
    },
    {
      "cell_type": "markdown",
      "metadata": {
        "id": "vmpZWO8Z_v8I"
      },
      "source": [
        "32. (1 балл) Посчитать, сколько различных букв в слове 'превысокомногорассмотрительствующий'"
      ]
    },
    {
      "cell_type": "code",
      "metadata": {
        "id": "IUBHgO78_v8J",
        "colab": {
          "base_uri": "https://localhost:8080/"
        },
        "outputId": "3bf7af58-8239-4798-a2ee-0ae31c7a7397"
      },
      "source": [
        "a='превысокомногорассмотрительствующий'\n",
        "b=set(a)\n",
        "print(len(b))"
      ],
      "execution_count": null,
      "outputs": [
        {
          "output_type": "stream",
          "name": "stdout",
          "text": [
            "20\n"
          ]
        }
      ]
    },
    {
      "cell_type": "markdown",
      "metadata": {
        "id": "EtPaMLQO_v8J"
      },
      "source": [
        "33. (1 балл) Какие различные буквы имеют слова \"превысокомногорассмотрительствующий\" и \"водогрязеторфопарафинолечение\"?"
      ]
    },
    {
      "cell_type": "code",
      "metadata": {
        "id": "dwIdysLu_v8J",
        "colab": {
          "base_uri": "https://localhost:8080/"
        },
        "outputId": "cf8aa119-f5e7-4994-dd6e-cf9f19ad45dd"
      },
      "source": [
        "a=set('превысокомногорассмотрительствующий')\n",
        "b=set(\"водогрязеторфопарафинолечение\")\n",
        "c=a-b\n",
        "d=b-a\n",
        "e=c.union(d)\n",
        "print(e)"
      ],
      "execution_count": null,
      "outputs": [
        {
          "output_type": "stream",
          "name": "stdout",
          "text": [
            "{'ь', 'з', 'у', 'ч', 'ю', 'м', 'ф', 'я', 'д', 'й', 'ы', 'к', 'щ', 'с'}\n"
          ]
        }
      ]
    },
    {
      "cell_type": "markdown",
      "metadata": {
        "id": "UQxsVL3w_v8J"
      },
      "source": [
        "34. (1 балл) Какие общие буквы имеют слова \"превысокомногорассмотрительствующий\" и \"водогрязеторфопарафинолечение\"?"
      ]
    },
    {
      "cell_type": "code",
      "metadata": {
        "id": "unSFfV_a_v8J",
        "colab": {
          "base_uri": "https://localhost:8080/"
        },
        "outputId": "91fef976-41d6-4087-e69b-0cb2f0dbcb15"
      },
      "source": [
        "print(a.intersection(b))"
      ],
      "execution_count": null,
      "outputs": [
        {
          "output_type": "stream",
          "name": "stdout",
          "text": [
            "{'п', 'г', 'в', 'л', 'о', 'е', 'т', 'р', 'а', 'н', 'и'}\n"
          ]
        }
      ]
    },
    {
      "cell_type": "markdown",
      "metadata": {
        "id": "GauGi3oF_v8J"
      },
      "source": [
        "35. (1 балл) Есть ли буквы в слове \"превысокомногорассмотрительствующий\", которых нет в слове \"водогрязеторфопарафинолечение\"? А наоборот?"
      ]
    },
    {
      "cell_type": "code",
      "metadata": {
        "id": "TfTtSHFY_v8J",
        "colab": {
          "base_uri": "https://localhost:8080/"
        },
        "outputId": "be344185-6575-46ac-b089-28f6487dfccf"
      },
      "source": [
        "print(a-b)\n",
        "print(b-a)"
      ],
      "execution_count": null,
      "outputs": [
        {
          "output_type": "stream",
          "name": "stdout",
          "text": [
            "{'ь', 'у', 'ю', 'м', 'й', 'ы', 'к', 'щ', 'с'}\n",
            "{'ч', 'ф', 'я', 'д', 'з'}\n"
          ]
        }
      ]
    },
    {
      "cell_type": "markdown",
      "metadata": {
        "id": "E2sczfkn_v8J"
      },
      "source": [
        "### Часть 6. Словари и полезные вещи (10 баллов)"
      ]
    },
    {
      "cell_type": "markdown",
      "metadata": {
        "id": "VxZ4E8JhEHxD"
      },
      "source": [
        "Дан текст. Текст приведен к начальной форме уже за вас (мы это научимся делать на следующем занятии).\n",
        "```\n",
        "1. DJ Khaled замутить трек, в который читать только Drake. \n",
        "2. Drake организовывать на этот песня очень крутой клип, в который вместо он сниматься только джастин бибер.\n",
        "\n",
        "видимо, награда за весь это быть получать леонардо дикаприо 😅\n",
        "\n",
        "в клип джастин, кстати, выглядеть очень бодрый и наконец выздоравливать от болезнь и депрессия.\n",
        "отдельный прикол в то, что он там «читать» строчка про свой бывший девушка селен гомес, про себя сам и про то, насколько дрейк - крутой они все и взрывать индустрия 😂🤟\n",
        "```"
      ]
    },
    {
      "cell_type": "markdown",
      "metadata": {
        "id": "hGBIV3hS_v8K"
      },
      "source": [
        "36. (1 балл) Запишите его в переменную. Обратите внимание, что текст многострочный -- переносы строки нужно сохранить!"
      ]
    },
    {
      "cell_type": "code",
      "metadata": {
        "id": "BLB2YgyY_v8K"
      },
      "source": [
        "a=\"\"\"1. DJ Khaled замутить трек, в который читать только Drake.\n",
        "2. Drake организовывать на этот песня очень крутой клип, в который вместо он сниматься только джастин бибер.\n",
        "\n",
        "видимо, награда за весь это быть получать леонардо дикаприо 😅\n",
        " \n",
        "в клип джастин, кстати, выглядеть очень бодрый и наконец выздоравливать от болезнь и депрессия.\n",
        "отдельный прикол в то, что он там «читать» строчка про свой бывший девушка селен гомес, про себя сам и про то, насколько дрейк - крутой они все и взрывать индустрия 😂🤟\"\"\""
      ],
      "execution_count": 5,
      "outputs": []
    },
    {
      "cell_type": "markdown",
      "metadata": {
        "id": "Z2529Ids_v8K"
      },
      "source": [
        "37. (1 балл) Разделите текст на предложения (только при помощи `\"\\n\"`)"
      ]
    },
    {
      "cell_type": "code",
      "metadata": {
        "id": "DWR1Ckig_v8K",
        "colab": {
          "base_uri": "https://localhost:8080/"
        },
        "outputId": "1ea055d7-0a74-4139-a328-482358130d71"
      },
      "source": [
        "# your code here\n",
        "sentences = a.split('\\n')\n",
        "sentences"
      ],
      "execution_count": 6,
      "outputs": [
        {
          "output_type": "execute_result",
          "data": {
            "text/plain": [
              "['1. DJ Khaled замутить трек, в который читать только Drake.',\n",
              " '2. Drake организовывать на этот песня очень крутой клип, в который вместо он сниматься только джастин бибер.',\n",
              " '',\n",
              " 'видимо, награда за весь это быть получать леонардо дикаприо 😅',\n",
              " ' ',\n",
              " 'в клип джастин, кстати, выглядеть очень бодрый и наконец выздоравливать от болезнь и депрессия.',\n",
              " 'отдельный прикол в то, что он там «читать» строчка про свой бывший девушка селен гомес, про себя сам и про то, насколько дрейк - крутой они все и взрывать индустрия 😂🤟']"
            ]
          },
          "metadata": {},
          "execution_count": 6
        }
      ]
    },
    {
      "cell_type": "markdown",
      "metadata": {
        "id": "pa1_7zAS_v8K"
      },
      "source": [
        "38. (2 балла) Разделите предложения на слова, удалите пунктуацию до и после слов, используя `.strip()`. И кавычки тоже удалите."
      ]
    },
    {
      "cell_type": "code",
      "metadata": {
        "id": "Fj0ZPwO1_v8K",
        "colab": {
          "base_uri": "https://localhost:8080/"
        },
        "outputId": "b3cd8ca5-4252-4c7f-e8d2-56b8df90309d"
      },
      "source": [
        "# your code here\n",
        "from string import punctuation\n",
        "punct = \",.«»\"\n",
        "\n",
        "sentences_with_words = []\n",
        "\n",
        "for sentence in sentences:\n",
        "    sentences_with_words.append([i.strip(punct) for i in sentence.split()])\n",
        "\n",
        "sentences_with_words"
      ],
      "execution_count": 7,
      "outputs": [
        {
          "output_type": "execute_result",
          "data": {
            "text/plain": [
              "[['1',\n",
              "  'DJ',\n",
              "  'Khaled',\n",
              "  'замутить',\n",
              "  'трек',\n",
              "  'в',\n",
              "  'который',\n",
              "  'читать',\n",
              "  'только',\n",
              "  'Drake'],\n",
              " ['2',\n",
              "  'Drake',\n",
              "  'организовывать',\n",
              "  'на',\n",
              "  'этот',\n",
              "  'песня',\n",
              "  'очень',\n",
              "  'крутой',\n",
              "  'клип',\n",
              "  'в',\n",
              "  'который',\n",
              "  'вместо',\n",
              "  'он',\n",
              "  'сниматься',\n",
              "  'только',\n",
              "  'джастин',\n",
              "  'бибер'],\n",
              " [],\n",
              " ['видимо',\n",
              "  'награда',\n",
              "  'за',\n",
              "  'весь',\n",
              "  'это',\n",
              "  'быть',\n",
              "  'получать',\n",
              "  'леонардо',\n",
              "  'дикаприо',\n",
              "  '😅'],\n",
              " [],\n",
              " ['в',\n",
              "  'клип',\n",
              "  'джастин',\n",
              "  'кстати',\n",
              "  'выглядеть',\n",
              "  'очень',\n",
              "  'бодрый',\n",
              "  'и',\n",
              "  'наконец',\n",
              "  'выздоравливать',\n",
              "  'от',\n",
              "  'болезнь',\n",
              "  'и',\n",
              "  'депрессия'],\n",
              " ['отдельный',\n",
              "  'прикол',\n",
              "  'в',\n",
              "  'то',\n",
              "  'что',\n",
              "  'он',\n",
              "  'там',\n",
              "  'читать',\n",
              "  'строчка',\n",
              "  'про',\n",
              "  'свой',\n",
              "  'бывший',\n",
              "  'девушка',\n",
              "  'селен',\n",
              "  'гомес',\n",
              "  'про',\n",
              "  'себя',\n",
              "  'сам',\n",
              "  'и',\n",
              "  'про',\n",
              "  'то',\n",
              "  'насколько',\n",
              "  'дрейк',\n",
              "  '-',\n",
              "  'крутой',\n",
              "  'они',\n",
              "  'все',\n",
              "  'и',\n",
              "  'взрывать',\n",
              "  'индустрия',\n",
              "  '😂🤟']]"
            ]
          },
          "metadata": {},
          "execution_count": 7
        }
      ]
    },
    {
      "cell_type": "markdown",
      "metadata": {
        "id": "H6JJW1GH_v8K"
      },
      "source": [
        "39. (2 балла) Создайте словарь, в котором ключ -- слово из текста, а значение -- количество раз, сколько оно встречается во всем тексте.\n",
        "\n",
        "например:\n",
        "\n",
        "`dct = {\"go\": 1, \"went\": 2, \"gone\": 3}`\n",
        "\n",
        "Напечатайте словарь"
      ]
    },
    {
      "cell_type": "code",
      "metadata": {
        "id": "cy5_T8yM_v8L",
        "colab": {
          "base_uri": "https://localhost:8080/"
        },
        "outputId": "55f214d0-2179-4424-db63-d3db13cd5e5c"
      },
      "source": [
        "from collections import Counter\n",
        "a=['car', 'cat', 'cat', 'paint', 'ten', 'ten', 'ten']\n",
        "\n",
        "a = Counter(a)\n",
        "print(a)"
      ],
      "execution_count": 32,
      "outputs": [
        {
          "output_type": "stream",
          "name": "stdout",
          "text": [
            "Counter({'ten': 3, 'cat': 2, 'car': 1, 'paint': 1})\n"
          ]
        }
      ]
    },
    {
      "cell_type": "markdown",
      "metadata": {
        "id": "lCKeMfMY_v8L"
      },
      "source": [
        "40. (2 балла) Напечатайте слова, встречающиеся более 1 раза в формате `\"слово кол-во раз\"` через пробел.\n",
        "\n",
        "    * Если сможете напечатать в порядке убывания (от большего к меньшему) + 2 балла"
      ]
    },
    {
      "cell_type": "code",
      "metadata": {
        "id": "bd5BAdeu_v8L",
        "colab": {
          "base_uri": "https://localhost:8080/"
        },
        "outputId": "6721d65c-1927-4b2a-b566-b8439217e64f"
      },
      "source": [
        "\n",
        "for i, j in a.items():\n",
        "  if j>1:\n",
        "    print(i, ' ', j)\n"
      ],
      "execution_count": 33,
      "outputs": [
        {
          "output_type": "stream",
          "name": "stdout",
          "text": [
            "cat   2\n",
            "ten   3\n"
          ]
        }
      ]
    },
    {
      "cell_type": "markdown",
      "metadata": {
        "id": "6mEkbtQk_v8M"
      },
      "source": [
        "41. (2 балла) Пользователь вводит с клавиатуры какое-нибудь слово.\n",
        "Проверяем, есть ли слово в массиве: если нет, добавляем его туда и печатаем \"Слово X добавлено\", а если есть, то печатаем ответ \"Слово X в тексте N раз\"."
      ]
    },
    {
      "cell_type": "code",
      "metadata": {
        "id": "JvQMP8wR_v8M",
        "colab": {
          "base_uri": "https://localhost:8080/"
        },
        "outputId": "f588429a-8e12-4355-af68-176c4ae939fb"
      },
      "source": [
        "d=[]\n",
        "c=str(input('введите слово '))\n",
        "if c in d:\n",
        "  cou=d.count(c)\n",
        "  print ('Слово', c, 'в тексте', cou, 'раз')\n",
        "else: \n",
        "  d.append(c)\n",
        "  print('Слово', c, 'добавлено')\n"
      ],
      "execution_count": 53,
      "outputs": [
        {
          "output_type": "stream",
          "name": "stdout",
          "text": [
            "введите слово t\n",
            "Слово t добавлено\n"
          ]
        }
      ]
    },
    {
      "cell_type": "markdown",
      "metadata": {
        "id": "YTZ_hhhBFasx"
      },
      "source": [
        "## Задания со звездочкой (9 или 10 можно получить, решив эти задания)"
      ]
    },
    {
      "cell_type": "markdown",
      "metadata": {
        "id": "159FPHDYFpk1"
      },
      "source": [
        "42. По заданному n вывести левосторонний треугольник из следующих цифр:\n"
      ]
    },
    {
      "cell_type": "code",
      "metadata": {
        "colab": {
          "base_uri": "https://localhost:8080/"
        },
        "id": "KqJoZEUIFaEd",
        "outputId": "c89d2c6a-67f2-4382-d634-e18e73824c42"
      },
      "source": [
        "# your code here"
      ],
      "execution_count": null,
      "outputs": [
        {
          "output_type": "stream",
          "name": "stdout",
          "text": [
            "0\n",
            "0 1\n",
            "0 1 2\n",
            "0 1 2 3\n",
            "0 1 2 3 4\n",
            "0 1 2 3 4 5\n",
            "0 1 2 3 4 5 6\n",
            "0 1 2 3 4 5 6 7\n",
            "0 1 2 3 4 5 6 7 8\n",
            "0 1 2 3 4 5 6 7 8 9\n"
          ]
        }
      ]
    },
    {
      "cell_type": "code",
      "metadata": {
        "colab": {
          "base_uri": "https://localhost:8080/"
        },
        "id": "CqKQKoHTiCj8",
        "outputId": "d0af96c5-d815-4843-f6cb-f67adfa8a5f5"
      },
      "source": [
        "n = 10\n",
        "\n",
        "previous = []\n",
        "\n",
        "for i in range(n):\n",
        "    previous_list = \" \".join(previous)\n",
        "    print(f'{previous_list} {str(i)}'.strip())\n",
        "    previous.append(str(i))"
      ],
      "execution_count": null,
      "outputs": [
        {
          "output_type": "stream",
          "name": "stdout",
          "text": [
            "0\n",
            "0 1\n",
            "0 1 2\n",
            "0 1 2 3\n",
            "0 1 2 3 4\n",
            "0 1 2 3 4 5\n",
            "0 1 2 3 4 5 6\n",
            "0 1 2 3 4 5 6 7\n",
            "0 1 2 3 4 5 6 7 8\n",
            "0 1 2 3 4 5 6 7 8 9\n"
          ]
        }
      ]
    },
    {
      "cell_type": "code",
      "metadata": {
        "colab": {
          "base_uri": "https://localhost:8080/"
        },
        "id": "HvPHWZzUjuas",
        "outputId": "80472a8f-4531-44f6-eb06-49ccc15cc5f2"
      },
      "source": [
        "x = [0, 5, 1]\n",
        "print(*x)\n",
        "print(x)"
      ],
      "execution_count": null,
      "outputs": [
        {
          "output_type": "stream",
          "name": "stdout",
          "text": [
            "0 5 1\n",
            "[0, 5, 1]\n"
          ]
        }
      ]
    },
    {
      "cell_type": "markdown",
      "metadata": {
        "id": "-9rUNF4-Fofe"
      },
      "source": [
        "43. По заданному n вывести перевернутый правосторонний треугольник из следующих цифр"
      ]
    },
    {
      "cell_type": "code",
      "metadata": {
        "colab": {
          "base_uri": "https://localhost:8080/"
        },
        "id": "Sa7ZDOa-Fm7O",
        "outputId": "266a5a61-76e5-4dd7-de68-35d3b874eb99"
      },
      "source": [
        "#your code here"
      ],
      "execution_count": null,
      "outputs": [
        {
          "output_type": "stream",
          "name": "stdout",
          "text": [
            "0 1 2 3 4 5 6 7 8 9\n",
            "  0 1 2 3 4 5 6 7 8\n",
            "    0 1 2 3 4 5 6 7\n",
            "      0 1 2 3 4 5 6\n",
            "        0 1 2 3 4 5\n",
            "          0 1 2 3 4\n",
            "            0 1 2 3\n",
            "              0 1 2\n",
            "                0 1\n",
            "                  0\n"
          ]
        }
      ]
    },
    {
      "cell_type": "markdown",
      "metadata": {
        "id": "y1BSSdWe_v8N"
      },
      "source": [
        "#### Напишите ниже вашу обратную связь по домашнему заданию в комментарии. \n",
        "\n",
        "#### Какие задания показались вам самыми сложными / простыми? Что понравилось, а что нет?"
      ]
    },
    {
      "cell_type": "code",
      "metadata": {
        "id": "xciAjxQG_v8N"
      },
      "source": [
        ""
      ],
      "execution_count": null,
      "outputs": []
    }
  ]
}